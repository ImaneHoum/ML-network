{
  "nbformat": 4,
  "nbformat_minor": 0,
  "metadata": {
    "colab": {
      "provenance": []
    },
    "kernelspec": {
      "name": "python3",
      "display_name": "Python 3"
    },
    "language_info": {
      "name": "python"
    }
  },
  "cells": [
    {
      "cell_type": "code",
      "execution_count": null,
      "metadata": {
        "id": "2OlYYYijudEM"
      },
      "outputs": [],
      "source": [
        "import pandas as pd\n",
        "import numpy as np\n",
        "import math\n",
        "import matplotlib.pyplot as plt\n",
        "\n",
        "from pandas.plotting import scatter_matrix\n"
      ]
    },
    {
      "cell_type": "markdown",
      "source": [],
      "metadata": {
        "id": "8xhnU4EGukzE"
      }
    },
    {
      "cell_type": "code",
      "source": [
        "df1 = pd.read_csv('dataset/Xtrain.csv')\n",
        "df2 = pd.read_csv('dataset/Ytrain.csv')\n",
        "#df2.iloc[:, 1].head(n=11)\n",
        "df = pd.concat([df1, df2], ignore_index=True)\n",
        "df.head(n=11)\n"
      ],
      "metadata": {
        "id": "VucOYEJtui81"
      },
      "execution_count": null,
      "outputs": []
    }
  ]
}