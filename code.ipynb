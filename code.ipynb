{
  "nbformat": 4,
  "nbformat_minor": 0,
  "metadata": {
    "colab": {
      "provenance": [],
      "authorship_tag": "ABX9TyNcSfidU9USjIvnK//CWq/S",
      "include_colab_link": true
    },
    "kernelspec": {
      "name": "python3",
      "display_name": "Python 3"
    },
    "language_info": {
      "name": "python"
    }
  },
  "cells": [
    {
      "cell_type": "markdown",
      "metadata": {
        "id": "view-in-github",
        "colab_type": "text"
      },
      "source": [
        "<a href=\"https://colab.research.google.com/github/ImaneHoum/ML-network/blob/main/code.ipynb\" target=\"_parent\"><img src=\"https://colab.research.google.com/assets/colab-badge.svg\" alt=\"Open In Colab\"/></a>"
      ]
    },
    {
      "cell_type": "code",
      "execution_count": null,
      "metadata": {
        "id": "2OlYYYijudEM"
      },
      "outputs": [],
      "source": [
        "import pandas as pd\n",
        "import numpy as np\n",
        "import math\n",
        "import matplotlib.pyplot as plt\n",
        "\n",
        "from pandas.plotting import scatter_matrix\n"
      ]
    },
    {
      "cell_type": "markdown",
      "source": [],
      "metadata": {
        "id": "8xhnU4EGukzE"
      }
    },
    {
      "cell_type": "code",
      "source": [
        "df1 = pd.read_csv('dataset/Xtrain.csv')\n",
        "df2 = pd.read_csv('dataset/Ytrain.csv')\n",
        "#df2.iloc[:, 1].head(n=11)\n",
        "df = pd.concat([df1, df2], ignore_index=True)\n",
        "df.head(n=11)\n"
      ],
      "metadata": {
        "id": "VucOYEJtui81"
      },
      "execution_count": null,
      "outputs": []
    }
  ]
}